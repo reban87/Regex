{
  "nbformat": 4,
  "nbformat_minor": 0,
  "metadata": {
    "colab": {
      "name": "Regex in python.ipynb",
      "provenance": [],
      "authorship_tag": "ABX9TyNbIuLismqeTFtPTYNncY8H",
      "include_colab_link": true
    },
    "kernelspec": {
      "name": "python3",
      "display_name": "Python 3"
    },
    "language_info": {
      "name": "python"
    }
  },
  "cells": [
    {
      "cell_type": "markdown",
      "metadata": {
        "id": "view-in-github",
        "colab_type": "text"
      },
      "source": [
        "<a href=\"https://colab.research.google.com/github/reban87/Regex/blob/main/Regex_in_python.ipynb\" target=\"_parent\"><img src=\"https://colab.research.google.com/assets/colab-badge.svg\" alt=\"Open In Colab\"/></a>"
      ]
    },
    {
      "cell_type": "code",
      "execution_count": null,
      "metadata": {
        "id": "M9GncqfJHTG4"
      },
      "outputs": [],
      "source": [
        "import re # module for regular expression\n",
        "\n"
      ]
    },
    {
      "cell_type": "markdown",
      "source": [
        "It has 5 different methods\n",
        "- findall - specific string matches lai uthauera as a string return gardncha\n",
        "- search - match object return garne\n",
        "- split - kunai euta text vanda mathi ko strings lai list ma rakhincha, feri tei text vanda muni ko arko same text naaunjel lai list ma rakhdincha\n",
        "- sub\n",
        "- finditer\n",
        "\n",
        "\n",
        "```Meta Characters```\n",
        "\n",
        "- [] A set of characters\n",
        "- \\ Signals a special sequence (can also be used to escape special characters)\n",
        "- . Any character (except newline character)\n",
        "- ^ Starts with\n",
        "- $ Ends with\n",
        "- '*' Zero or more occurrences\n",
        "- '+' One or more occurrences\n",
        "- {} Exactly the specified number of occurrences\n",
        "- | Either or\n",
        "- () Capture and group\n",
        "\n",
        "```Special Sequences```\n",
        "\n",
        "- \\A Returns a match if the specified characters are at the beginning of the string\n",
        "- \\b Returns a match where the specified characters are at the beginning or at the end of a word \n",
        "- \\B Returns a match where the specified characters are present, but NOT at the beginning (or at the end) of a word\n",
        "\n",
        "- \\d Returns a match where the string contains digits (numbers from 0-9)\n",
        "- \\D Returns a match where the string DOES NOT contain digits\n",
        "- \\s Returns a match where the string contains a white space character\n",
        "- \\S Returns a match where the string DOES NOT contain a white space character\n",
        "- \\w Returns a match where the string contains any word characters (characters from a to Z, digits from 0-9, and the underscore _ character)\n",
        "- \\W Returns a match where the string DOES NOT contain any word characters\n",
        "- \\Z Returns a match if the specified characters are at the end of the string\n",
        "\n"
      ],
      "metadata": {
        "id": "isMV1hWkHurJ"
      }
    },
    {
      "cell_type": "code",
      "source": [
        "#for most of the cases finditer can be used\n",
        "\n",
        "mystr='''Tata Limited\n",
        "Dr. David Landsman, executive director\n",
        "18, Grosvenor Place\n",
        "London SW1X 7HSc\n",
        "Phone: +44 (20) 7235 8281\n",
        "Fax: +44 (20) 7235 8727\n",
        "Email: tata@tata.co.uk\n",
        "Website: www.europe.tata.com\n",
        "Directions: View map\n",
        "+919841723105\n",
        "Tata Sons, North America\n",
        "1700 North Moore St, Suite 1520\n",
        "Arlington, VA 22209-1911\n",
        "USA\n",
        "Phone: +1 (703) 243 9787\n",
        "Fax: +1 (703) 243 9791\n",
        "66-66\n",
        "455-4545\n",
        "Email: northamerica@tata.com \n",
        "Website: www.northamerica.tata.com\n",
        "Directions: View map fass\n",
        "harry bhai lekin\n",
        "bahut hi badia aadmi haiaiinaiiiiiiiiiiii'''"
      ],
      "metadata": {
        "id": "l01eF9BIHjDt"
      },
      "execution_count": null,
      "outputs": []
    },
    {
      "cell_type": "code",
      "source": [
        "# #patt=re.compile(r'fass') #look for exact word fass\n",
        "# #patt=re.compile(r'.adm') \n",
        "# patt=re.compile(r'^Tata')\n",
        "# print(patt)\n",
        "# matches=patt.finditer(mystr)\n",
        "# for match in matches:\n",
        "#   print(match)\n",
        "#   #print(mystr[498:502])"
      ],
      "metadata": {
        "colab": {
          "base_uri": "https://localhost:8080/"
        },
        "id": "gfRlmkn2D73m",
        "outputId": "862a1c78-20ba-4c35-f751-b4d1a36afc39"
      },
      "execution_count": null,
      "outputs": [
        {
          "output_type": "stream",
          "name": "stdout",
          "text": [
            "re.compile('^Tata')\n",
            "<re.Match object; span=(0, 4), match='Tata'>\n"
          ]
        }
      ]
    },
    {
      "cell_type": "code",
      "source": [
        "# patt=re.compile(r'fass') #look for exact word fass\n",
        "# patt=re.compile(r'.adm') #look for .adm adm kaha cha vanera\n",
        "# patt=re.compile(r'^Tata') # starts with Tata khojne vayo\n",
        "# patt=re.compile(r'iin$') #iin ma end hune string\n",
        "# patt=re.compile(r'ai{2}')\n",
        "# patt=re.compile(r'(ai){2}')\n",
        "#patt=re.compile(r'ai*') #a huna paryo i pachadi * means o wota i or badi \n",
        "# patt=re.compile(r'a*i*') #a navako pani or vako ra i navako plus vako\n",
        "#patt=re.compile(r'ai{2}') #a euta ra i chai 2 ta continue aaune\n",
        "#patt=re.compile(r'(ai){2}') #ai vanne group 2 thau ma continue vaye dekhau\n",
        "#patt=re.compile(r'(ai){2}|t') #either aiai veta or t matra veta\n",
        "\n",
        "\n",
        "#sequence\n",
        "\n",
        "#patt=re.compile(r'\\ATata') #start from begining khoja\n",
        "#patt=re.compile(r'\\bFax') #ends or start with fax\n",
        "#patt=re.compile(r'Fax\\b') # ends ma aaune jati\n",
        "\n",
        "\n",
        "#lets try some complicated lets take only numbers from above text arlington, va 22209-1911 cha vane\n",
        "\n",
        "patt=re.compile(r'\\d{5}-\\d{4}')\n",
        "\n",
        "matches=patt.finditer(mystr)\n",
        "for match in matches:\n",
        "  print(match)\n",
        "  #print(mystr[492:496])"
      ],
      "metadata": {
        "colab": {
          "base_uri": "https://localhost:8080/"
        },
        "id": "vuOr6MUKNewo",
        "outputId": "4b8d7ee8-e7f0-4d1d-cced-6237ffdeabf9"
      },
      "execution_count": null,
      "outputs": [
        {
          "output_type": "stream",
          "name": "stdout",
          "text": [
            "<re.Match object; span=(284, 294), match='22209-1911'>\n"
          ]
        }
      ]
    },
    {
      "cell_type": "code",
      "source": [
        "#task: give a string with a lot of number starts from +91\n",
        "\n",
        "patt=re.compile(r'\\d+\\.?\\d+')\n",
        "\n",
        "matches=patt.finditer(mystr)\n",
        "for match in matches:\n",
        "  print(match)"
      ],
      "metadata": {
        "colab": {
          "base_uri": "https://localhost:8080/"
        },
        "id": "gTTIq0LFN_bg",
        "outputId": "3605c28b-73a7-4585-d64d-d0a6595a2542"
      },
      "execution_count": null,
      "outputs": [
        {
          "output_type": "stream",
          "name": "stdout",
          "text": [
            "<re.Match object; span=(52, 54), match='18'>\n",
            "<re.Match object; span=(97, 99), match='44'>\n",
            "<re.Match object; span=(101, 103), match='20'>\n",
            "<re.Match object; span=(105, 109), match='7235'>\n",
            "<re.Match object; span=(110, 114), match='8281'>\n",
            "<re.Match object; span=(121, 123), match='44'>\n",
            "<re.Match object; span=(125, 127), match='20'>\n",
            "<re.Match object; span=(129, 133), match='7235'>\n",
            "<re.Match object; span=(134, 138), match='8727'>\n",
            "<re.Match object; span=(238, 242), match='1700'>\n",
            "<re.Match object; span=(265, 269), match='1520'>\n",
            "<re.Match object; span=(284, 289), match='22209'>\n",
            "<re.Match object; span=(290, 294), match='1911'>\n",
            "<re.Match object; span=(310, 313), match='703'>\n",
            "<re.Match object; span=(315, 318), match='243'>\n",
            "<re.Match object; span=(319, 323), match='9787'>\n",
            "<re.Match object; span=(333, 336), match='703'>\n",
            "<re.Match object; span=(338, 341), match='243'>\n",
            "<re.Match object; span=(342, 346), match='9791'>\n",
            "<re.Match object; span=(347, 349), match='66'>\n",
            "<re.Match object; span=(350, 352), match='66'>\n",
            "<re.Match object; span=(353, 356), match='455'>\n",
            "<re.Match object; span=(357, 361), match='4545'>\n"
          ]
        }
      ]
    },
    {
      "cell_type": "code",
      "source": [
        "#practise question\n",
        "import re\n",
        "txt=\"the rain in spain\"\n",
        "\n",
        "patt=re.compile(r'\\Athe')\n",
        "\n",
        "matches=patt.finditer(txt)\n",
        "for match in matches:\n",
        "  print(matches)"
      ],
      "metadata": {
        "colab": {
          "base_uri": "https://localhost:8080/"
        },
        "id": "wU6V68IjUQco",
        "outputId": "5d162ab2-9e2e-4371-f180-7ce1f4bef269"
      },
      "execution_count": null,
      "outputs": [
        {
          "output_type": "stream",
          "name": "stdout",
          "text": [
            "<callable_iterator object at 0x7f3ad4bf4250>\n"
          ]
        }
      ]
    },
    {
      "cell_type": "code",
      "source": [
        "#to detect: 1X40 (without space)\n",
        "#((\\d+\\s*)(X\\s*\\d{2}))\n",
        "#(\\d+\\s*)(X\\s*\\d{2})\n"
      ],
      "metadata": {
        "id": "KOiq8lM7YvbE"
      },
      "execution_count": null,
      "outputs": []
    },
    {
      "cell_type": "code",
      "source": [
        ""
      ],
      "metadata": {
        "id": "29joeNYTIUp_"
      },
      "execution_count": null,
      "outputs": []
    },
    {
      "cell_type": "code",
      "source": [
        "def container_size_parser(text, keys={'20SD':['20FT','20 FT',\"20'GP\",'20','1X20','20SD','20 SD'], '40SD':['40FT','40 FT',\"40'GP\",\"40'HC\",'40','1X40','40SD','40 SD'],'40HQ':['40HQ','40 HQ','1X40 HQ','1X40HQ'],'45HQ':['45HQ','45 HQ','1X45 HQ','1X45HQ']}):\n",
        "  # text_obj = LogisticEmailTools()\n",
        "  result = ''\n",
        "  for key,val in keys.items():\n",
        "      for i in val:\n",
        "          regex = generate_regex(key = i,word_break = True)\n",
        "          match = re.search(regex,text,re.IGNORECASE)\n",
        "          if match:\n",
        "              result = key\n",
        "              break\n",
        "  return result\n"
      ],
      "metadata": {
        "id": "CCADkzNdIjAK"
      },
      "execution_count": null,
      "outputs": []
    },
    {
      "cell_type": "code",
      "source": [
        "import re\n"
      ],
      "metadata": {
        "id": "G1cvM5iN1Ymx"
      },
      "execution_count": null,
      "outputs": []
    },
    {
      "cell_type": "code",
      "source": [
        "text1=\"\"\"I want quote for the following container size 1 x 40 hc. also for 1 x 40 Can you give me the rate. Also 2 X 40, 1 X 20'\"\"\"\n",
        "text2=\"I want the rate for the container size below. 1*40\"\n",
        "var=re.search(pattern=r\"(\\d+\\s*)(X\\s*\\d{2})(\\s*\\w{2})?\", string=text1,flags=re.IGNORECASE)\n",
        "\n",
        "# for match in var:\n",
        "  # s=match.start()\n",
        "  # e=match.end()\n",
        "  # print(\"starting index:\",s)\n",
        "  # print(\"ending index:\",e)\n",
        "  # print(match)\n",
        "\n",
        "print(var.groups())  \n",
        "\n",
        "print(var.group(1))\n",
        "print(var.group(2))\n",
        "group=var.group(1)+var.group(2)+var.group(3)\n",
        "print(\"group:\",group.upper())\n",
        "\n",
        "\n",
        "\n"
      ],
      "metadata": {
        "colab": {
          "base_uri": "https://localhost:8080/"
        },
        "id": "ZjY0bDe4yQh8",
        "outputId": "cb883fd2-8992-42f0-eee0-66d65598f8ab"
      },
      "execution_count": null,
      "outputs": [
        {
          "output_type": "stream",
          "name": "stdout",
          "text": [
            "('1 ', 'x 40', ' hc')\n",
            "1 \n",
            "x 40\n",
            "group: 1 X 40 HC\n"
          ]
        }
      ]
    },
    {
      "cell_type": "code",
      "source": [
        "text3=\"\"\"Please urgently check and advise the rate for the following. Houston - Melbourne 1x20' Dry Printed Goods Est. ready date: 7/06 Sincerely, John S. Kim J PLOGISTICS, INC. 1633  Bayshore Hwy #333 Burlingame, CA 94010  Office Phone: 650-689-5720 Cell Phone : 650-278-2355  Fax : 650-268-8610\"\"\""
      ],
      "metadata": {
        "id": "9JIRf8E_2S0C"
      },
      "execution_count": null,
      "outputs": []
    }
  ]
}